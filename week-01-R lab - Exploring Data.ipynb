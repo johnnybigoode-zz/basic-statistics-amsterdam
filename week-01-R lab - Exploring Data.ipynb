{
 "cells": [
  {
   "cell_type": "markdown",
   "id": "a8e9b286-925c-469b-904e-4272f37e1c4a",
   "metadata": {},
   "source": [
    "Turning MILES PER GALON into factors HIGH and LOW"
   ]
  },
  {
   "cell_type": "code",
   "execution_count": 2,
   "id": "bdc8bd1c-fc69-4dee-b048-7ae34b073b43",
   "metadata": {},
   "outputs": [],
   "source": [
    "#Assign the value of mtcars to the new variable mtcars2\n",
    "mtcars2 <- mtcars\n",
    "\n",
    "#Assign the label \"high\" to mpgcategory where mpg is greater than or equal to 20\n",
    "mtcars2$mpgcategory[mtcars2$mpg >= 20] <- \"high\"\n",
    "\n",
    "#Assign the label \"low\" to mpgcategory where mpg is less than 20\n",
    "mtcars2$mpgcategory[mtcars2$mpg < 20] <- \"low\"\n",
    "\n",
    "#Assign mpgcategory as factor to mpgfactor\n",
    "mtcars2$mpgfacto = as.factor(mtcars2$mpgcategory)"
   ]
  },
  {
   "cell_type": "code",
   "execution_count": 3,
   "id": "28e2d934-0dc5-4aa0-8e4c-fd9f5ce16a97",
   "metadata": {},
   "outputs": [
    {
     "data": {
      "text/html": [
       "<table>\n",
       "<thead><tr><th></th><th scope=col>mpg</th><th scope=col>cyl</th><th scope=col>disp</th><th scope=col>hp</th><th scope=col>drat</th><th scope=col>wt</th><th scope=col>qsec</th><th scope=col>vs</th><th scope=col>am</th><th scope=col>gear</th><th scope=col>carb</th><th scope=col>mpgcategory</th><th scope=col>mpgfacto</th></tr></thead>\n",
       "<tbody>\n",
       "\t<tr><th scope=row>Mazda RX4</th><td>21.0 </td><td>6    </td><td>160.0</td><td>110  </td><td>3.90 </td><td>2.620</td><td>16.46</td><td>0    </td><td>1    </td><td>4    </td><td>4    </td><td>high </td><td>high </td></tr>\n",
       "\t<tr><th scope=row>Mazda RX4 Wag</th><td>21.0 </td><td>6    </td><td>160.0</td><td>110  </td><td>3.90 </td><td>2.875</td><td>17.02</td><td>0    </td><td>1    </td><td>4    </td><td>4    </td><td>high </td><td>high </td></tr>\n",
       "\t<tr><th scope=row>Datsun 710</th><td>22.8 </td><td>4    </td><td>108.0</td><td> 93  </td><td>3.85 </td><td>2.320</td><td>18.61</td><td>1    </td><td>1    </td><td>4    </td><td>1    </td><td>high </td><td>high </td></tr>\n",
       "\t<tr><th scope=row>Hornet 4 Drive</th><td>21.4 </td><td>6    </td><td>258.0</td><td>110  </td><td>3.08 </td><td>3.215</td><td>19.44</td><td>1    </td><td>0    </td><td>3    </td><td>1    </td><td>high </td><td>high </td></tr>\n",
       "\t<tr><th scope=row>Hornet Sportabout</th><td>18.7 </td><td>8    </td><td>360.0</td><td>175  </td><td>3.15 </td><td>3.440</td><td>17.02</td><td>0    </td><td>0    </td><td>3    </td><td>2    </td><td>low  </td><td>low  </td></tr>\n",
       "\t<tr><th scope=row>Valiant</th><td>18.1 </td><td>6    </td><td>225.0</td><td>105  </td><td>2.76 </td><td>3.460</td><td>20.22</td><td>1    </td><td>0    </td><td>3    </td><td>1    </td><td>low  </td><td>low  </td></tr>\n",
       "\t<tr><th scope=row>Duster 360</th><td>14.3 </td><td>8    </td><td>360.0</td><td>245  </td><td>3.21 </td><td>3.570</td><td>15.84</td><td>0    </td><td>0    </td><td>3    </td><td>4    </td><td>low  </td><td>low  </td></tr>\n",
       "\t<tr><th scope=row>Merc 240D</th><td>24.4 </td><td>4    </td><td>146.7</td><td> 62  </td><td>3.69 </td><td>3.190</td><td>20.00</td><td>1    </td><td>0    </td><td>4    </td><td>2    </td><td>high </td><td>high </td></tr>\n",
       "\t<tr><th scope=row>Merc 230</th><td>22.8 </td><td>4    </td><td>140.8</td><td> 95  </td><td>3.92 </td><td>3.150</td><td>22.90</td><td>1    </td><td>0    </td><td>4    </td><td>2    </td><td>high </td><td>high </td></tr>\n",
       "\t<tr><th scope=row>Merc 280</th><td>19.2 </td><td>6    </td><td>167.6</td><td>123  </td><td>3.92 </td><td>3.440</td><td>18.30</td><td>1    </td><td>0    </td><td>4    </td><td>4    </td><td>low  </td><td>low  </td></tr>\n",
       "\t<tr><th scope=row>Merc 280C</th><td>17.8 </td><td>6    </td><td>167.6</td><td>123  </td><td>3.92 </td><td>3.440</td><td>18.90</td><td>1    </td><td>0    </td><td>4    </td><td>4    </td><td>low  </td><td>low  </td></tr>\n",
       "\t<tr><th scope=row>Merc 450SE</th><td>16.4 </td><td>8    </td><td>275.8</td><td>180  </td><td>3.07 </td><td>4.070</td><td>17.40</td><td>0    </td><td>0    </td><td>3    </td><td>3    </td><td>low  </td><td>low  </td></tr>\n",
       "\t<tr><th scope=row>Merc 450SL</th><td>17.3 </td><td>8    </td><td>275.8</td><td>180  </td><td>3.07 </td><td>3.730</td><td>17.60</td><td>0    </td><td>0    </td><td>3    </td><td>3    </td><td>low  </td><td>low  </td></tr>\n",
       "\t<tr><th scope=row>Merc 450SLC</th><td>15.2 </td><td>8    </td><td>275.8</td><td>180  </td><td>3.07 </td><td>3.780</td><td>18.00</td><td>0    </td><td>0    </td><td>3    </td><td>3    </td><td>low  </td><td>low  </td></tr>\n",
       "\t<tr><th scope=row>Cadillac Fleetwood</th><td>10.4 </td><td>8    </td><td>472.0</td><td>205  </td><td>2.93 </td><td>5.250</td><td>17.98</td><td>0    </td><td>0    </td><td>3    </td><td>4    </td><td>low  </td><td>low  </td></tr>\n",
       "\t<tr><th scope=row>Lincoln Continental</th><td>10.4 </td><td>8    </td><td>460.0</td><td>215  </td><td>3.00 </td><td>5.424</td><td>17.82</td><td>0    </td><td>0    </td><td>3    </td><td>4    </td><td>low  </td><td>low  </td></tr>\n",
       "\t<tr><th scope=row>Chrysler Imperial</th><td>14.7 </td><td>8    </td><td>440.0</td><td>230  </td><td>3.23 </td><td>5.345</td><td>17.42</td><td>0    </td><td>0    </td><td>3    </td><td>4    </td><td>low  </td><td>low  </td></tr>\n",
       "\t<tr><th scope=row>Fiat 128</th><td>32.4 </td><td>4    </td><td> 78.7</td><td> 66  </td><td>4.08 </td><td>2.200</td><td>19.47</td><td>1    </td><td>1    </td><td>4    </td><td>1    </td><td>high </td><td>high </td></tr>\n",
       "\t<tr><th scope=row>Honda Civic</th><td>30.4 </td><td>4    </td><td> 75.7</td><td> 52  </td><td>4.93 </td><td>1.615</td><td>18.52</td><td>1    </td><td>1    </td><td>4    </td><td>2    </td><td>high </td><td>high </td></tr>\n",
       "\t<tr><th scope=row>Toyota Corolla</th><td>33.9 </td><td>4    </td><td> 71.1</td><td> 65  </td><td>4.22 </td><td>1.835</td><td>19.90</td><td>1    </td><td>1    </td><td>4    </td><td>1    </td><td>high </td><td>high </td></tr>\n",
       "\t<tr><th scope=row>Toyota Corona</th><td>21.5 </td><td>4    </td><td>120.1</td><td> 97  </td><td>3.70 </td><td>2.465</td><td>20.01</td><td>1    </td><td>0    </td><td>3    </td><td>1    </td><td>high </td><td>high </td></tr>\n",
       "\t<tr><th scope=row>Dodge Challenger</th><td>15.5 </td><td>8    </td><td>318.0</td><td>150  </td><td>2.76 </td><td>3.520</td><td>16.87</td><td>0    </td><td>0    </td><td>3    </td><td>2    </td><td>low  </td><td>low  </td></tr>\n",
       "\t<tr><th scope=row>AMC Javelin</th><td>15.2 </td><td>8    </td><td>304.0</td><td>150  </td><td>3.15 </td><td>3.435</td><td>17.30</td><td>0    </td><td>0    </td><td>3    </td><td>2    </td><td>low  </td><td>low  </td></tr>\n",
       "\t<tr><th scope=row>Camaro Z28</th><td>13.3 </td><td>8    </td><td>350.0</td><td>245  </td><td>3.73 </td><td>3.840</td><td>15.41</td><td>0    </td><td>0    </td><td>3    </td><td>4    </td><td>low  </td><td>low  </td></tr>\n",
       "\t<tr><th scope=row>Pontiac Firebird</th><td>19.2 </td><td>8    </td><td>400.0</td><td>175  </td><td>3.08 </td><td>3.845</td><td>17.05</td><td>0    </td><td>0    </td><td>3    </td><td>2    </td><td>low  </td><td>low  </td></tr>\n",
       "\t<tr><th scope=row>Fiat X1-9</th><td>27.3 </td><td>4    </td><td> 79.0</td><td> 66  </td><td>4.08 </td><td>1.935</td><td>18.90</td><td>1    </td><td>1    </td><td>4    </td><td>1    </td><td>high </td><td>high </td></tr>\n",
       "\t<tr><th scope=row>Porsche 914-2</th><td>26.0 </td><td>4    </td><td>120.3</td><td> 91  </td><td>4.43 </td><td>2.140</td><td>16.70</td><td>0    </td><td>1    </td><td>5    </td><td>2    </td><td>high </td><td>high </td></tr>\n",
       "\t<tr><th scope=row>Lotus Europa</th><td>30.4 </td><td>4    </td><td> 95.1</td><td>113  </td><td>3.77 </td><td>1.513</td><td>16.90</td><td>1    </td><td>1    </td><td>5    </td><td>2    </td><td>high </td><td>high </td></tr>\n",
       "\t<tr><th scope=row>Ford Pantera L</th><td>15.8 </td><td>8    </td><td>351.0</td><td>264  </td><td>4.22 </td><td>3.170</td><td>14.50</td><td>0    </td><td>1    </td><td>5    </td><td>4    </td><td>low  </td><td>low  </td></tr>\n",
       "\t<tr><th scope=row>Ferrari Dino</th><td>19.7 </td><td>6    </td><td>145.0</td><td>175  </td><td>3.62 </td><td>2.770</td><td>15.50</td><td>0    </td><td>1    </td><td>5    </td><td>6    </td><td>low  </td><td>low  </td></tr>\n",
       "\t<tr><th scope=row>Maserati Bora</th><td>15.0 </td><td>8    </td><td>301.0</td><td>335  </td><td>3.54 </td><td>3.570</td><td>14.60</td><td>0    </td><td>1    </td><td>5    </td><td>8    </td><td>low  </td><td>low  </td></tr>\n",
       "\t<tr><th scope=row>Volvo 142E</th><td>21.4 </td><td>4    </td><td>121.0</td><td>109  </td><td>4.11 </td><td>2.780</td><td>18.60</td><td>1    </td><td>1    </td><td>4    </td><td>2    </td><td>high </td><td>high </td></tr>\n",
       "</tbody>\n",
       "</table>\n"
      ],
      "text/latex": [
       "\\begin{tabular}{r|lllllllllllll}\n",
       "  & mpg & cyl & disp & hp & drat & wt & qsec & vs & am & gear & carb & mpgcategory & mpgfacto\\\\\n",
       "\\hline\n",
       "\tMazda RX4 & 21.0  & 6     & 160.0 & 110   & 3.90  & 2.620 & 16.46 & 0     & 1     & 4     & 4     & high  & high \\\\\n",
       "\tMazda RX4 Wag & 21.0  & 6     & 160.0 & 110   & 3.90  & 2.875 & 17.02 & 0     & 1     & 4     & 4     & high  & high \\\\\n",
       "\tDatsun 710 & 22.8  & 4     & 108.0 &  93   & 3.85  & 2.320 & 18.61 & 1     & 1     & 4     & 1     & high  & high \\\\\n",
       "\tHornet 4 Drive & 21.4  & 6     & 258.0 & 110   & 3.08  & 3.215 & 19.44 & 1     & 0     & 3     & 1     & high  & high \\\\\n",
       "\tHornet Sportabout & 18.7  & 8     & 360.0 & 175   & 3.15  & 3.440 & 17.02 & 0     & 0     & 3     & 2     & low   & low  \\\\\n",
       "\tValiant & 18.1  & 6     & 225.0 & 105   & 2.76  & 3.460 & 20.22 & 1     & 0     & 3     & 1     & low   & low  \\\\\n",
       "\tDuster 360 & 14.3  & 8     & 360.0 & 245   & 3.21  & 3.570 & 15.84 & 0     & 0     & 3     & 4     & low   & low  \\\\\n",
       "\tMerc 240D & 24.4  & 4     & 146.7 &  62   & 3.69  & 3.190 & 20.00 & 1     & 0     & 4     & 2     & high  & high \\\\\n",
       "\tMerc 230 & 22.8  & 4     & 140.8 &  95   & 3.92  & 3.150 & 22.90 & 1     & 0     & 4     & 2     & high  & high \\\\\n",
       "\tMerc 280 & 19.2  & 6     & 167.6 & 123   & 3.92  & 3.440 & 18.30 & 1     & 0     & 4     & 4     & low   & low  \\\\\n",
       "\tMerc 280C & 17.8  & 6     & 167.6 & 123   & 3.92  & 3.440 & 18.90 & 1     & 0     & 4     & 4     & low   & low  \\\\\n",
       "\tMerc 450SE & 16.4  & 8     & 275.8 & 180   & 3.07  & 4.070 & 17.40 & 0     & 0     & 3     & 3     & low   & low  \\\\\n",
       "\tMerc 450SL & 17.3  & 8     & 275.8 & 180   & 3.07  & 3.730 & 17.60 & 0     & 0     & 3     & 3     & low   & low  \\\\\n",
       "\tMerc 450SLC & 15.2  & 8     & 275.8 & 180   & 3.07  & 3.780 & 18.00 & 0     & 0     & 3     & 3     & low   & low  \\\\\n",
       "\tCadillac Fleetwood & 10.4  & 8     & 472.0 & 205   & 2.93  & 5.250 & 17.98 & 0     & 0     & 3     & 4     & low   & low  \\\\\n",
       "\tLincoln Continental & 10.4  & 8     & 460.0 & 215   & 3.00  & 5.424 & 17.82 & 0     & 0     & 3     & 4     & low   & low  \\\\\n",
       "\tChrysler Imperial & 14.7  & 8     & 440.0 & 230   & 3.23  & 5.345 & 17.42 & 0     & 0     & 3     & 4     & low   & low  \\\\\n",
       "\tFiat 128 & 32.4  & 4     &  78.7 &  66   & 4.08  & 2.200 & 19.47 & 1     & 1     & 4     & 1     & high  & high \\\\\n",
       "\tHonda Civic & 30.4  & 4     &  75.7 &  52   & 4.93  & 1.615 & 18.52 & 1     & 1     & 4     & 2     & high  & high \\\\\n",
       "\tToyota Corolla & 33.9  & 4     &  71.1 &  65   & 4.22  & 1.835 & 19.90 & 1     & 1     & 4     & 1     & high  & high \\\\\n",
       "\tToyota Corona & 21.5  & 4     & 120.1 &  97   & 3.70  & 2.465 & 20.01 & 1     & 0     & 3     & 1     & high  & high \\\\\n",
       "\tDodge Challenger & 15.5  & 8     & 318.0 & 150   & 2.76  & 3.520 & 16.87 & 0     & 0     & 3     & 2     & low   & low  \\\\\n",
       "\tAMC Javelin & 15.2  & 8     & 304.0 & 150   & 3.15  & 3.435 & 17.30 & 0     & 0     & 3     & 2     & low   & low  \\\\\n",
       "\tCamaro Z28 & 13.3  & 8     & 350.0 & 245   & 3.73  & 3.840 & 15.41 & 0     & 0     & 3     & 4     & low   & low  \\\\\n",
       "\tPontiac Firebird & 19.2  & 8     & 400.0 & 175   & 3.08  & 3.845 & 17.05 & 0     & 0     & 3     & 2     & low   & low  \\\\\n",
       "\tFiat X1-9 & 27.3  & 4     &  79.0 &  66   & 4.08  & 1.935 & 18.90 & 1     & 1     & 4     & 1     & high  & high \\\\\n",
       "\tPorsche 914-2 & 26.0  & 4     & 120.3 &  91   & 4.43  & 2.140 & 16.70 & 0     & 1     & 5     & 2     & high  & high \\\\\n",
       "\tLotus Europa & 30.4  & 4     &  95.1 & 113   & 3.77  & 1.513 & 16.90 & 1     & 1     & 5     & 2     & high  & high \\\\\n",
       "\tFord Pantera L & 15.8  & 8     & 351.0 & 264   & 4.22  & 3.170 & 14.50 & 0     & 1     & 5     & 4     & low   & low  \\\\\n",
       "\tFerrari Dino & 19.7  & 6     & 145.0 & 175   & 3.62  & 2.770 & 15.50 & 0     & 1     & 5     & 6     & low   & low  \\\\\n",
       "\tMaserati Bora & 15.0  & 8     & 301.0 & 335   & 3.54  & 3.570 & 14.60 & 0     & 1     & 5     & 8     & low   & low  \\\\\n",
       "\tVolvo 142E & 21.4  & 4     & 121.0 & 109   & 4.11  & 2.780 & 18.60 & 1     & 1     & 4     & 2     & high  & high \\\\\n",
       "\\end{tabular}\n"
      ],
      "text/markdown": [
       "\n",
       "| <!--/--> | mpg | cyl | disp | hp | drat | wt | qsec | vs | am | gear | carb | mpgcategory | mpgfacto |\n",
       "|---|---|---|---|---|---|---|---|---|---|---|---|---|---|\n",
       "| Mazda RX4 | 21.0  | 6     | 160.0 | 110   | 3.90  | 2.620 | 16.46 | 0     | 1     | 4     | 4     | high  | high  |\n",
       "| Mazda RX4 Wag | 21.0  | 6     | 160.0 | 110   | 3.90  | 2.875 | 17.02 | 0     | 1     | 4     | 4     | high  | high  |\n",
       "| Datsun 710 | 22.8  | 4     | 108.0 |  93   | 3.85  | 2.320 | 18.61 | 1     | 1     | 4     | 1     | high  | high  |\n",
       "| Hornet 4 Drive | 21.4  | 6     | 258.0 | 110   | 3.08  | 3.215 | 19.44 | 1     | 0     | 3     | 1     | high  | high  |\n",
       "| Hornet Sportabout | 18.7  | 8     | 360.0 | 175   | 3.15  | 3.440 | 17.02 | 0     | 0     | 3     | 2     | low   | low   |\n",
       "| Valiant | 18.1  | 6     | 225.0 | 105   | 2.76  | 3.460 | 20.22 | 1     | 0     | 3     | 1     | low   | low   |\n",
       "| Duster 360 | 14.3  | 8     | 360.0 | 245   | 3.21  | 3.570 | 15.84 | 0     | 0     | 3     | 4     | low   | low   |\n",
       "| Merc 240D | 24.4  | 4     | 146.7 |  62   | 3.69  | 3.190 | 20.00 | 1     | 0     | 4     | 2     | high  | high  |\n",
       "| Merc 230 | 22.8  | 4     | 140.8 |  95   | 3.92  | 3.150 | 22.90 | 1     | 0     | 4     | 2     | high  | high  |\n",
       "| Merc 280 | 19.2  | 6     | 167.6 | 123   | 3.92  | 3.440 | 18.30 | 1     | 0     | 4     | 4     | low   | low   |\n",
       "| Merc 280C | 17.8  | 6     | 167.6 | 123   | 3.92  | 3.440 | 18.90 | 1     | 0     | 4     | 4     | low   | low   |\n",
       "| Merc 450SE | 16.4  | 8     | 275.8 | 180   | 3.07  | 4.070 | 17.40 | 0     | 0     | 3     | 3     | low   | low   |\n",
       "| Merc 450SL | 17.3  | 8     | 275.8 | 180   | 3.07  | 3.730 | 17.60 | 0     | 0     | 3     | 3     | low   | low   |\n",
       "| Merc 450SLC | 15.2  | 8     | 275.8 | 180   | 3.07  | 3.780 | 18.00 | 0     | 0     | 3     | 3     | low   | low   |\n",
       "| Cadillac Fleetwood | 10.4  | 8     | 472.0 | 205   | 2.93  | 5.250 | 17.98 | 0     | 0     | 3     | 4     | low   | low   |\n",
       "| Lincoln Continental | 10.4  | 8     | 460.0 | 215   | 3.00  | 5.424 | 17.82 | 0     | 0     | 3     | 4     | low   | low   |\n",
       "| Chrysler Imperial | 14.7  | 8     | 440.0 | 230   | 3.23  | 5.345 | 17.42 | 0     | 0     | 3     | 4     | low   | low   |\n",
       "| Fiat 128 | 32.4  | 4     |  78.7 |  66   | 4.08  | 2.200 | 19.47 | 1     | 1     | 4     | 1     | high  | high  |\n",
       "| Honda Civic | 30.4  | 4     |  75.7 |  52   | 4.93  | 1.615 | 18.52 | 1     | 1     | 4     | 2     | high  | high  |\n",
       "| Toyota Corolla | 33.9  | 4     |  71.1 |  65   | 4.22  | 1.835 | 19.90 | 1     | 1     | 4     | 1     | high  | high  |\n",
       "| Toyota Corona | 21.5  | 4     | 120.1 |  97   | 3.70  | 2.465 | 20.01 | 1     | 0     | 3     | 1     | high  | high  |\n",
       "| Dodge Challenger | 15.5  | 8     | 318.0 | 150   | 2.76  | 3.520 | 16.87 | 0     | 0     | 3     | 2     | low   | low   |\n",
       "| AMC Javelin | 15.2  | 8     | 304.0 | 150   | 3.15  | 3.435 | 17.30 | 0     | 0     | 3     | 2     | low   | low   |\n",
       "| Camaro Z28 | 13.3  | 8     | 350.0 | 245   | 3.73  | 3.840 | 15.41 | 0     | 0     | 3     | 4     | low   | low   |\n",
       "| Pontiac Firebird | 19.2  | 8     | 400.0 | 175   | 3.08  | 3.845 | 17.05 | 0     | 0     | 3     | 2     | low   | low   |\n",
       "| Fiat X1-9 | 27.3  | 4     |  79.0 |  66   | 4.08  | 1.935 | 18.90 | 1     | 1     | 4     | 1     | high  | high  |\n",
       "| Porsche 914-2 | 26.0  | 4     | 120.3 |  91   | 4.43  | 2.140 | 16.70 | 0     | 1     | 5     | 2     | high  | high  |\n",
       "| Lotus Europa | 30.4  | 4     |  95.1 | 113   | 3.77  | 1.513 | 16.90 | 1     | 1     | 5     | 2     | high  | high  |\n",
       "| Ford Pantera L | 15.8  | 8     | 351.0 | 264   | 4.22  | 3.170 | 14.50 | 0     | 1     | 5     | 4     | low   | low   |\n",
       "| Ferrari Dino | 19.7  | 6     | 145.0 | 175   | 3.62  | 2.770 | 15.50 | 0     | 1     | 5     | 6     | low   | low   |\n",
       "| Maserati Bora | 15.0  | 8     | 301.0 | 335   | 3.54  | 3.570 | 14.60 | 0     | 1     | 5     | 8     | low   | low   |\n",
       "| Volvo 142E | 21.4  | 4     | 121.0 | 109   | 4.11  | 2.780 | 18.60 | 1     | 1     | 4     | 2     | high  | high  |\n",
       "\n"
      ],
      "text/plain": [
       "                    mpg  cyl disp  hp  drat wt    qsec  vs am gear carb\n",
       "Mazda RX4           21.0 6   160.0 110 3.90 2.620 16.46 0  1  4    4   \n",
       "Mazda RX4 Wag       21.0 6   160.0 110 3.90 2.875 17.02 0  1  4    4   \n",
       "Datsun 710          22.8 4   108.0  93 3.85 2.320 18.61 1  1  4    1   \n",
       "Hornet 4 Drive      21.4 6   258.0 110 3.08 3.215 19.44 1  0  3    1   \n",
       "Hornet Sportabout   18.7 8   360.0 175 3.15 3.440 17.02 0  0  3    2   \n",
       "Valiant             18.1 6   225.0 105 2.76 3.460 20.22 1  0  3    1   \n",
       "Duster 360          14.3 8   360.0 245 3.21 3.570 15.84 0  0  3    4   \n",
       "Merc 240D           24.4 4   146.7  62 3.69 3.190 20.00 1  0  4    2   \n",
       "Merc 230            22.8 4   140.8  95 3.92 3.150 22.90 1  0  4    2   \n",
       "Merc 280            19.2 6   167.6 123 3.92 3.440 18.30 1  0  4    4   \n",
       "Merc 280C           17.8 6   167.6 123 3.92 3.440 18.90 1  0  4    4   \n",
       "Merc 450SE          16.4 8   275.8 180 3.07 4.070 17.40 0  0  3    3   \n",
       "Merc 450SL          17.3 8   275.8 180 3.07 3.730 17.60 0  0  3    3   \n",
       "Merc 450SLC         15.2 8   275.8 180 3.07 3.780 18.00 0  0  3    3   \n",
       "Cadillac Fleetwood  10.4 8   472.0 205 2.93 5.250 17.98 0  0  3    4   \n",
       "Lincoln Continental 10.4 8   460.0 215 3.00 5.424 17.82 0  0  3    4   \n",
       "Chrysler Imperial   14.7 8   440.0 230 3.23 5.345 17.42 0  0  3    4   \n",
       "Fiat 128            32.4 4    78.7  66 4.08 2.200 19.47 1  1  4    1   \n",
       "Honda Civic         30.4 4    75.7  52 4.93 1.615 18.52 1  1  4    2   \n",
       "Toyota Corolla      33.9 4    71.1  65 4.22 1.835 19.90 1  1  4    1   \n",
       "Toyota Corona       21.5 4   120.1  97 3.70 2.465 20.01 1  0  3    1   \n",
       "Dodge Challenger    15.5 8   318.0 150 2.76 3.520 16.87 0  0  3    2   \n",
       "AMC Javelin         15.2 8   304.0 150 3.15 3.435 17.30 0  0  3    2   \n",
       "Camaro Z28          13.3 8   350.0 245 3.73 3.840 15.41 0  0  3    4   \n",
       "Pontiac Firebird    19.2 8   400.0 175 3.08 3.845 17.05 0  0  3    2   \n",
       "Fiat X1-9           27.3 4    79.0  66 4.08 1.935 18.90 1  1  4    1   \n",
       "Porsche 914-2       26.0 4   120.3  91 4.43 2.140 16.70 0  1  5    2   \n",
       "Lotus Europa        30.4 4    95.1 113 3.77 1.513 16.90 1  1  5    2   \n",
       "Ford Pantera L      15.8 8   351.0 264 4.22 3.170 14.50 0  1  5    4   \n",
       "Ferrari Dino        19.7 6   145.0 175 3.62 2.770 15.50 0  1  5    6   \n",
       "Maserati Bora       15.0 8   301.0 335 3.54 3.570 14.60 0  1  5    8   \n",
       "Volvo 142E          21.4 4   121.0 109 4.11 2.780 18.60 1  1  4    2   \n",
       "                    mpgcategory mpgfacto\n",
       "Mazda RX4           high        high    \n",
       "Mazda RX4 Wag       high        high    \n",
       "Datsun 710          high        high    \n",
       "Hornet 4 Drive      high        high    \n",
       "Hornet Sportabout   low         low     \n",
       "Valiant             low         low     \n",
       "Duster 360          low         low     \n",
       "Merc 240D           high        high    \n",
       "Merc 230            high        high    \n",
       "Merc 280            low         low     \n",
       "Merc 280C           low         low     \n",
       "Merc 450SE          low         low     \n",
       "Merc 450SL          low         low     \n",
       "Merc 450SLC         low         low     \n",
       "Cadillac Fleetwood  low         low     \n",
       "Lincoln Continental low         low     \n",
       "Chrysler Imperial   low         low     \n",
       "Fiat 128            high        high    \n",
       "Honda Civic         high        high    \n",
       "Toyota Corolla      high        high    \n",
       "Toyota Corona       high        high    \n",
       "Dodge Challenger    low         low     \n",
       "AMC Javelin         low         low     \n",
       "Camaro Z28          low         low     \n",
       "Pontiac Firebird    low         low     \n",
       "Fiat X1-9           high        high    \n",
       "Porsche 914-2       high        high    \n",
       "Lotus Europa        high        high    \n",
       "Ford Pantera L      low         low     \n",
       "Ferrari Dino        low         low     \n",
       "Maserati Bora       low         low     \n",
       "Volvo 142E          high        high    "
      ]
     },
     "metadata": {},
     "output_type": "display_data"
    }
   ],
   "source": [
    "mtcars2"
   ]
  },
  {
   "cell_type": "code",
   "execution_count": 5,
   "id": "2daa5418-b642-42bf-a3a6-3c8fc36b2203",
   "metadata": {},
   "outputs": [
    {
     "data": {
      "text/plain": [
       "\n",
       " 4  6  8 \n",
       "11  7 14 "
      ]
     },
     "metadata": {},
     "output_type": "display_data"
    }
   ],
   "source": [
    "# getting info frequency \n",
    "table(mtcars$cyl)"
   ]
  },
  {
   "cell_type": "code",
   "execution_count": 6,
   "id": "78980ca9-8567-4945-9b32-baf8665ed889",
   "metadata": {},
   "outputs": [
    {
     "data": {
      "text/plain": [
       "\n",
       " 3  4  5 \n",
       "15 12  5 "
      ]
     },
     "metadata": {},
     "output_type": "display_data"
    },
    {
     "data": {
      "text/html": [
       "0.625"
      ],
      "text/latex": [
       "0.625"
      ],
      "text/markdown": [
       "0.625"
      ],
      "text/plain": [
       "[1] 0.625"
      ]
     },
     "metadata": {},
     "output_type": "display_data"
    },
    {
     "data": {
      "text/html": [
       "62.5"
      ],
      "text/latex": [
       "62.5"
      ],
      "text/markdown": [
       "62.5"
      ],
      "text/plain": [
       "[1] 62.5"
      ]
     },
     "metadata": {},
     "output_type": "display_data"
    }
   ],
   "source": [
    "# More details on frequency \n",
    "# What percentage of cars have 3 or 5 gears?\n",
    "table(mtcars$gear)\n",
    "\n",
    "a3or5 <- 15+5\n",
    "total <- 15+12+5\n",
    "a3or5/total\n",
    "\n",
    "62.5"
   ]
  },
  {
   "cell_type": "code",
   "execution_count": 7,
   "id": "47f23a35-faa4-4b0a-a66a-1bee4760e35d",
   "metadata": {},
   "outputs": [
    {
     "name": "stdout",
     "output_type": "stream",
     "text": [
      "'data.frame':\t32 obs. of  11 variables:\n",
      " $ mpg : num  21 21 22.8 21.4 18.7 18.1 14.3 24.4 22.8 19.2 ...\n",
      " $ cyl : num  6 6 4 6 8 6 8 4 4 6 ...\n",
      " $ disp: num  160 160 108 258 360 ...\n",
      " $ hp  : num  110 110 93 110 175 105 245 62 95 123 ...\n",
      " $ drat: num  3.9 3.9 3.85 3.08 3.15 2.76 3.21 3.69 3.92 3.92 ...\n",
      " $ wt  : num  2.62 2.88 2.32 3.21 3.44 ...\n",
      " $ qsec: num  16.5 17 18.6 19.4 17 ...\n",
      " $ vs  : num  0 0 1 1 0 1 0 1 1 1 ...\n",
      " $ am  : num  1 1 1 0 0 0 0 0 0 0 ...\n",
      " $ gear: num  4 4 4 3 3 3 3 4 4 4 ...\n",
      " $ carb: num  4 4 1 1 2 1 4 2 2 4 ...\n"
     ]
    },
    {
     "data": {
      "image/png": "[encoded data removed]",
      "text/plain": [
       "plot without title"
      ]
     },
     "metadata": {},
     "output_type": "display_data"
    }
   ],
   "source": [
    "# making some basic bar charts\n",
    "#Assign the frequency of the mtcars variable \"am\" to a variable called \"height\"\n",
    "str(mtcars)\n",
    "height = table(mtcars$am)\n",
    "#Create a barplot of \"height\"\n",
    "barplot(height)"
   ]
  },
  {
   "cell_type": "code",
   "execution_count": 8,
   "id": "227a1f7c-adc1-4e32-8138-8c52a101eb81",
   "metadata": {},
   "outputs": [
    {
     "data": {
      "image/png": "[encoded data removed]",
      "text/plain": [
       "plot without title"
      ]
     },
     "metadata": {},
     "output_type": "display_data"
    }
   ],
   "source": [
    "# better labels\n",
    "# vector of bar heights\n",
    "height <- table(mtcars$am)\n",
    "# Make a vector of the names of the bars called \"barnames\"\n",
    "barnames = c(\"automatic\", \"manual\")\n",
    "# Label the y axis \"number of cars\" and label the bars using barnames\n",
    "barplot(height, ylab = \"number of cars\", names.arg = barnames)"
   ]
  },
  {
   "cell_type": "code",
   "execution_count": 9,
   "id": "b8a78ca7-7aa6-43ce-ab21-67f4de7dbcb1",
   "metadata": {},
   "outputs": [
    {
     "data": {
      "image/png": "[encoded data removed]",
      "text/plain": [
       "Plot with title \"Carburetors\""
      ]
     },
     "metadata": {},
     "output_type": "display_data"
    }
   ],
   "source": [
    "#now with colors\n",
    "# arguments to change the y-axis scale to 0 - 20, label the x-axis and colour the bars red\n",
    "hist(mtcars$carb, main = \"Carburetors\", xlab = \"Number of Carburetors\", ylim = c(0,20), col=\"red\")"
   ]
  },
  {
   "cell_type": "code",
   "execution_count": 10,
   "id": "5166c54f-2cde-4358-a7e6-7d60fa792be6",
   "metadata": {},
   "outputs": [
    {
     "data": {
      "text/html": [
       "20.090625"
      ],
      "text/latex": [
       "20.090625"
      ],
      "text/markdown": [
       "20.090625"
      ],
      "text/plain": [
       "[1] 20.09062"
      ]
     },
     "metadata": {},
     "output_type": "display_data"
    },
    {
     "data": {
      "text/html": [
       "19.2"
      ],
      "text/latex": [
       "19.2"
      ],
      "text/markdown": [
       "19.2"
      ],
      "text/plain": [
       "[1] 19.2"
      ]
     },
     "metadata": {},
     "output_type": "display_data"
    }
   ],
   "source": [
    "#meaens and medians\n",
    "# Calculate the mean miles per gallon\n",
    "mean(mtcars$mpg)\n",
    "# Calculate the median miles per gallon\n",
    "median(mtcars$mpg)"
   ]
  },
  {
   "cell_type": "code",
   "execution_count": null,
   "id": "297aa78e-8a26-434a-84ce-a9c1069e8f0a",
   "metadata": {},
   "outputs": [],
   "source": [
    "#we can find the mode with frequency and ordering\n",
    "# Produce a sorted frequency table of `carb` from `mtcars`\n",
    "sort(table(mtcars$carb),decreasing  = TRUE)"
   ]
  },
  {
   "cell_type": "code",
   "execution_count": null,
   "id": "f7ecae00-21d4-4554-a423-be3ee184b530",
   "metadata": {},
   "outputs": [],
   "source": [
    "#finding ranges with min and max\n",
    "# Minimum value\n",
    "x <- min(mtcars$mpg)\n",
    "# Maximum value\n",
    "y <- max(mtcars$mpg)\n",
    "# Calculate the range of mpg using x and y\n",
    "print(y - x)"
   ]
  },
  {
   "cell_type": "code",
   "execution_count": 11,
   "id": "461572f2-799e-4a40-b544-1bf986b42661",
   "metadata": {},
   "outputs": [
    {
     "data": {
      "text/html": [
       "<dl class=dl-horizontal>\n",
       "\t<dt>0%</dt>\n",
       "\t\t<dd>14.5</dd>\n",
       "\t<dt>25%</dt>\n",
       "\t\t<dd>16.8925</dd>\n",
       "\t<dt>50%</dt>\n",
       "\t\t<dd>17.71</dd>\n",
       "\t<dt>75%</dt>\n",
       "\t\t<dd>18.9</dd>\n",
       "\t<dt>100%</dt>\n",
       "\t\t<dd>22.9</dd>\n",
       "</dl>\n"
      ],
      "text/latex": [
       "\\begin{description*}\n",
       "\\item[0\\textbackslash{}\\%] 14.5\n",
       "\\item[25\\textbackslash{}\\%] 16.8925\n",
       "\\item[50\\textbackslash{}\\%] 17.71\n",
       "\\item[75\\textbackslash{}\\%] 18.9\n",
       "\\item[100\\textbackslash{}\\%] 22.9\n",
       "\\end{description*}\n"
      ],
      "text/markdown": [
       "0%\n",
       ":   14.525%\n",
       ":   16.892550%\n",
       ":   17.7175%\n",
       ":   18.9100%\n",
       ":   22.9\n",
       "\n"
      ],
      "text/plain": [
       "     0%     25%     50%     75%    100% \n",
       "14.5000 16.8925 17.7100 18.9000 22.9000 "
      ]
     },
     "metadata": {},
     "output_type": "display_data"
    },
    {
     "data": {
      "text/html": [
       "17.71"
      ],
      "text/latex": [
       "17.71"
      ],
      "text/markdown": [
       "17.71"
      ],
      "text/plain": [
       "[1] 17.71"
      ]
     },
     "metadata": {},
     "output_type": "display_data"
    },
    {
     "data": {
      "text/html": [
       "16.8925"
      ],
      "text/latex": [
       "16.8925"
      ],
      "text/markdown": [
       "16.8925"
      ],
      "text/plain": [
       "[1] 16.8925"
      ]
     },
     "metadata": {},
     "output_type": "display_data"
    }
   ],
   "source": [
    "#tricky quartile\n",
    "\n",
    "#You can calculate the quartiles in your data set using the function quantile(). The output of quantile() gives you the lowest value, first quartile, second quartile, third quartile and highest value. 25% of your data lies below the first quartile value, 50% lies below the second quartile, and 75% lies below the third quartile value. Let's see for ourselves!\n",
    "quantile(mtcars$qsec)\n",
    "# What is the value of the second quartile?\n",
    "17.71\n",
    "# What is the value of the first quartile?\n",
    "16.8925"
   ]
  },
  {
   "cell_type": "code",
   "execution_count": null,
   "id": "2586ff9b-4a55-47c2-91bc-e9e426f8ece8",
   "metadata": {},
   "outputs": [],
   "source": [
    "#interquartiles\n",
    "# Make a boxplot of qsec\n",
    "boxplot(mtcars$qsec)\n",
    "# Calculate the interquartile range of qsec\n",
    "IQR(mtcars$qsec)"
   ]
  },
  {
   "cell_type": "code",
   "execution_count": null,
   "id": "4c1da63d-9add-437a-b758-25409ac71118",
   "metadata": {},
   "outputs": [],
   "source": [
    "#finding outlier\n",
    "outlierval = IQR(mtcars$qsec)*1.5\n",
    "firstquantile = quantile(mtcars$qsec)[2]\n",
    "thirdquantile = quantile(mtcars$qsec)[4]\n",
    "\n",
    "# What is the threshold value for an outlier below the first quartile?\n",
    "firstquantile - outlierval\n",
    "13.88125\n",
    "# What is the threshold value for an outlier above the third quartile?\n",
    "thirdquantile + outlierval\n",
    "21.91125"
   ]
  },
  {
   "cell_type": "code",
   "execution_count": null,
   "id": "ce253bd9-d938-4665-bd8f-171fec9eae4d",
   "metadata": {},
   "outputs": [],
   "source": [
    "#standard deviations\n",
    "# Find the IQR of horsepower\n",
    "IQR(mtcars$hp)\n",
    "# Find the standard deviation of horsepower\n",
    "sd(mtcars$hp)\n",
    "# Find the IQR of miles per gallon\n",
    "IQR(mtcars$mpg)\n",
    "# Find the standard deviation of miles per gallon\n",
    "sd(mtcars$mpg)"
   ]
  },
  {
   "cell_type": "code",
   "execution_count": 12,
   "id": "7be29bfd-5455-492e-bed2-94d9c072cf23",
   "metadata": {},
   "outputs": [
    {
     "data": {
      "text/html": [
       "<ol class=list-inline>\n",
       "\t<li>0.150884824647657</li>\n",
       "\t<li>0.150884824647657</li>\n",
       "\t<li>0.449543446630647</li>\n",
       "\t<li>0.217253407310543</li>\n",
       "\t<li>-0.230734525663942</li>\n",
       "\t<li>-0.330287399658272</li>\n",
       "\t<li>-0.960788934955696</li>\n",
       "\t<li>0.715017777282194</li>\n",
       "\t<li>0.449543446630647</li>\n",
       "\t<li>-0.147773797335334</li>\n",
       "\t<li>-0.380063836655437</li>\n",
       "\t<li>-0.612353875975541</li>\n",
       "\t<li>-0.463024564984046</li>\n",
       "\t<li>-0.811459623964201</li>\n",
       "\t<li>-1.60788261591884</li>\n",
       "\t<li>-1.60788261591884</li>\n",
       "\t<li>-0.89442035229281</li>\n",
       "\t<li>2.04238943053993</li>\n",
       "\t<li>1.7105465172255</li>\n",
       "\t<li>2.29127161552575</li>\n",
       "\t<li>0.233845552976265</li>\n",
       "\t<li>-0.761683186967036</li>\n",
       "\t<li>-0.811459623964201</li>\n",
       "\t<li>-1.12671039161291</li>\n",
       "\t<li>-0.147773797335334</li>\n",
       "\t<li>1.19619000158812</li>\n",
       "\t<li>0.980492107933741</li>\n",
       "\t<li>1.7105465172255</li>\n",
       "\t<li>-0.711906749969871</li>\n",
       "\t<li>-0.0648130690067253</li>\n",
       "\t<li>-0.844643915295645</li>\n",
       "\t<li>0.217253407310543</li>\n",
       "</ol>\n"
      ],
      "text/latex": [
       "\\begin{enumerate*}\n",
       "\\item 0.150884824647657\n",
       "\\item 0.150884824647657\n",
       "\\item 0.449543446630647\n",
       "\\item 0.217253407310543\n",
       "\\item -0.230734525663942\n",
       "\\item -0.330287399658272\n",
       "\\item -0.960788934955696\n",
       "\\item 0.715017777282194\n",
       "\\item 0.449543446630647\n",
       "\\item -0.147773797335334\n",
       "\\item -0.380063836655437\n",
       "\\item -0.612353875975541\n",
       "\\item -0.463024564984046\n",
       "\\item -0.811459623964201\n",
       "\\item -1.60788261591884\n",
       "\\item -1.60788261591884\n",
       "\\item -0.89442035229281\n",
       "\\item 2.04238943053993\n",
       "\\item 1.7105465172255\n",
       "\\item 2.29127161552575\n",
       "\\item 0.233845552976265\n",
       "\\item -0.761683186967036\n",
       "\\item -0.811459623964201\n",
       "\\item -1.12671039161291\n",
       "\\item -0.147773797335334\n",
       "\\item 1.19619000158812\n",
       "\\item 0.980492107933741\n",
       "\\item 1.7105465172255\n",
       "\\item -0.711906749969871\n",
       "\\item -0.0648130690067253\n",
       "\\item -0.844643915295645\n",
       "\\item 0.217253407310543\n",
       "\\end{enumerate*}\n"
      ],
      "text/markdown": [
       "1. 0.150884824647657\n",
       "2. 0.150884824647657\n",
       "3. 0.449543446630647\n",
       "4. 0.217253407310543\n",
       "5. -0.230734525663942\n",
       "6. -0.330287399658272\n",
       "7. -0.960788934955696\n",
       "8. 0.715017777282194\n",
       "9. 0.449543446630647\n",
       "10. -0.147773797335334\n",
       "11. -0.380063836655437\n",
       "12. -0.612353875975541\n",
       "13. -0.463024564984046\n",
       "14. -0.811459623964201\n",
       "15. -1.60788261591884\n",
       "16. -1.60788261591884\n",
       "17. -0.89442035229281\n",
       "18. 2.04238943053993\n",
       "19. 1.7105465172255\n",
       "20. 2.29127161552575\n",
       "21. 0.233845552976265\n",
       "22. -0.761683186967036\n",
       "23. -0.811459623964201\n",
       "24. -1.12671039161291\n",
       "25. -0.147773797335334\n",
       "26. 1.19619000158812\n",
       "27. 0.980492107933741\n",
       "28. 1.7105465172255\n",
       "29. -0.711906749969871\n",
       "30. -0.0648130690067253\n",
       "31. -0.844643915295645\n",
       "32. 0.217253407310543\n",
       "\n",
       "\n"
      ],
      "text/plain": [
       " [1]  0.15088482  0.15088482  0.44954345  0.21725341 -0.23073453 -0.33028740\n",
       " [7] -0.96078893  0.71501778  0.44954345 -0.14777380 -0.38006384 -0.61235388\n",
       "[13] -0.46302456 -0.81145962 -1.60788262 -1.60788262 -0.89442035  2.04238943\n",
       "[19]  1.71054652  2.29127162  0.23384555 -0.76168319 -0.81145962 -1.12671039\n",
       "[25] -0.14777380  1.19619000  0.98049211  1.71054652 -0.71190675 -0.06481307\n",
       "[31] -0.84464392  0.21725341"
      ]
     },
     "metadata": {},
     "output_type": "display_data"
    }
   ],
   "source": [
    "#z-scores can be calculated with \n",
    "#x - mean / standard deviation\n",
    "\n",
    "# Calculate the z-scores of mpg\n",
    "(mtcars$mpg - mean(mtcars$mpg))/sd(mtcars$mpg)"
   ]
  },
  {
   "cell_type": "code",
   "execution_count": 16,
   "id": "0e219abb-a8ba-4efb-8bd7-0d02ef430f38",
   "metadata": {},
   "outputs": [],
   "source": [
    " notes = c(5, 7, 2, 1, 3, 4, 8, 8, 6, 6)"
   ]
  },
  {
   "cell_type": "code",
   "execution_count": 19,
   "id": "3d123835-ab0b-4b26-9e6d-4c67bd359000",
   "metadata": {},
   "outputs": [
    {
     "data": {
      "text/html": [
       "<dl class=dl-horizontal>\n",
       "\t<dt>0%</dt>\n",
       "\t\t<dd>1</dd>\n",
       "\t<dt>25%</dt>\n",
       "\t\t<dd>3.25</dd>\n",
       "\t<dt>50%</dt>\n",
       "\t\t<dd>5.5</dd>\n",
       "\t<dt>75%</dt>\n",
       "\t\t<dd>6.75</dd>\n",
       "\t<dt>100%</dt>\n",
       "\t\t<dd>8</dd>\n",
       "</dl>\n"
      ],
      "text/latex": [
       "\\begin{description*}\n",
       "\\item[0\\textbackslash{}\\%] 1\n",
       "\\item[25\\textbackslash{}\\%] 3.25\n",
       "\\item[50\\textbackslash{}\\%] 5.5\n",
       "\\item[75\\textbackslash{}\\%] 6.75\n",
       "\\item[100\\textbackslash{}\\%] 8\n",
       "\\end{description*}\n"
      ],
      "text/markdown": [
       "0%\n",
       ":   125%\n",
       ":   3.2550%\n",
       ":   5.575%\n",
       ":   6.75100%\n",
       ":   8\n",
       "\n"
      ],
      "text/plain": [
       "  0%  25%  50%  75% 100% \n",
       "1.00 3.25 5.50 6.75 8.00 "
      ]
     },
     "metadata": {},
     "output_type": "display_data"
    }
   ],
   "source": [
    "quantile(notes)"
   ]
  },
  {
   "cell_type": "code",
   "execution_count": 20,
   "id": "24b7a843-5faf-464b-b20d-003717203f8c",
   "metadata": {},
   "outputs": [],
   "source": [
    "footbal = c(1, 10, 6, 9, 2, 5, 6, 6, 5, 10)"
   ]
  },
  {
   "cell_type": "code",
   "execution_count": 22,
   "id": "ab4cabaf-1ded-4d95-92b0-5169b0118d44",
   "metadata": {},
   "outputs": [
    {
     "data": {
      "text/html": [
       "3.05505046330389"
      ],
      "text/latex": [
       "3.05505046330389"
      ],
      "text/markdown": [
       "3.05505046330389"
      ],
      "text/plain": [
       "[1] 3.05505"
      ]
     },
     "metadata": {},
     "output_type": "display_data"
    }
   ],
   "source": [
    "sd(footbal)"
   ]
  },
  {
   "cell_type": "code",
   "execution_count": 24,
   "id": "3bd75a3b-2b3a-4122-9f1a-211cd170c22e",
   "metadata": {},
   "outputs": [
    {
     "data": {
      "text/html": [
       "2.625"
      ],
      "text/latex": [
       "2.625"
      ],
      "text/markdown": [
       "2.625"
      ],
      "text/plain": [
       "[1] 2.625"
      ]
     },
     "metadata": {},
     "output_type": "display_data"
    }
   ],
   "source": [
    "IQR(c(3, 5, 5, 6, 7.5, 6, 5, 1, 10, 4))*1.5"
   ]
  },
  {
   "cell_type": "code",
   "execution_count": 25,
   "id": "03bb0ea4-afec-4266-aee6-b98f7361b259",
   "metadata": {},
   "outputs": [
    {
     "data": {
      "text/html": [
       "<strong>25%:</strong> 1.625"
      ],
      "text/latex": [
       "\\textbf{25\\textbackslash{}\\%:} 1.625"
      ],
      "text/markdown": [
       "**25%:** 1.625"
      ],
      "text/plain": [
       "  25% \n",
       "1.625 "
      ]
     },
     "metadata": {},
     "output_type": "display_data"
    },
    {
     "data": {
      "text/html": [
       "<strong>75%:</strong> 8.625"
      ],
      "text/latex": [
       "\\textbf{75\\textbackslash{}\\%:} 8.625"
      ],
      "text/markdown": [
       "**75%:** 8.625"
      ],
      "text/plain": [
       "  75% \n",
       "8.625 "
      ]
     },
     "metadata": {},
     "output_type": "display_data"
    }
   ],
   "source": [
    "grades = c(3, 5, 5, 6, 7.5, 6, 5, 1, 10, 4)\n",
    "#finding outlier\n",
    "outlierval = IQR(grades)*1.5\n",
    "firstquantile = quantile(grades)[2]\n",
    "thirdquantile = quantile(grades)[4]\n",
    "\n",
    "firstquantile - outlierval\n",
    "thirdquantile + outlierval\n"
   ]
  },
  {
   "cell_type": "code",
   "execution_count": 27,
   "id": "1e851333-9010-4cf5-91da-1e88dab79d5e",
   "metadata": {},
   "outputs": [
    {
     "data": {
      "text/html": [
       "3.56682242650545"
      ],
      "text/latex": [
       "3.56682242650545"
      ],
      "text/markdown": [
       "3.56682242650545"
      ],
      "text/plain": [
       "[1] 3.566822"
      ]
     },
     "metadata": {},
     "output_type": "display_data"
    }
   ],
   "source": [
    "scores = c(12, 10, 11, 12, 11, 14, 15, 18, 21, 11)\n",
    "sd(scores)"
   ]
  }
 ],
 "metadata": {
  "kernelspec": {
   "display_name": "R",
   "language": "R",
   "name": "ir"
  },
  "language_info": {
   "codemirror_mode": "r",
   "file_extension": ".r",
   "mimetype": "text/x-r-source",
   "name": "R",
   "pygments_lexer": "r",
   "version": "3.6.1"
  }
 },
 "nbformat": 4,
 "nbformat_minor": 5
}
