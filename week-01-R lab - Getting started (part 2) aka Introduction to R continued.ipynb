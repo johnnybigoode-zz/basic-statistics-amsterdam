{
 "cells": [
  {
   "cell_type": "code",
   "execution_count": 1,
   "id": "174dd9f7-d078-4c07-b4f2-e2aa80298981",
   "metadata": {},
   "outputs": [
    {
     "data": {
      "text/html": [
       "<pre class=language-r><code>function (x, ...) \n",
       "NULL</code></pre>"
      ],
      "text/latex": [
       "\\begin{minted}{r}\n",
       "function (x, ...) \n",
       "NULL\n",
       "\\end{minted}"
      ],
      "text/markdown": [
       "```r\n",
       "function (x, ...) \n",
       "NULL\n",
       "```"
      ],
      "text/plain": [
       "function (x, ...) \n",
       "NULL"
      ]
     },
     "metadata": {},
     "output_type": "display_data"
    }
   ],
   "source": [
    "# we can use help() to get documentation for function\n",
    "# and args() for their arguments\n",
    "args(mean)"
   ]
  },
  {
   "cell_type": "code",
   "execution_count": 2,
   "id": "d184687c-83f5-489e-aefd-998021320e49",
   "metadata": {},
   "outputs": [
    {
     "data": {
      "text/html": [
       "&lt;NA&gt;"
      ],
      "text/latex": [
       "<NA>"
      ],
      "text/markdown": [
       "&lt;NA&gt;"
      ],
      "text/plain": [
       "[1] NA"
      ]
     },
     "metadata": {},
     "output_type": "display_data"
    },
    {
     "data": {
      "text/html": [
       "7.625"
      ],
      "text/latex": [
       "7.625"
      ],
      "text/markdown": [
       "7.625"
      ],
      "text/plain": [
       "[1] 7.625"
      ]
     },
     "metadata": {},
     "output_type": "display_data"
    }
   ],
   "source": [
    "# a grades vector\n",
    "grades <- c(8.5, 7, 9, NA, 6)\n",
    "\n",
    "mean(grades)\n",
    "mean(grades,na.rm = TRUE)"
   ]
  },
  {
   "cell_type": "code",
   "execution_count": null,
   "id": "29eae7fb-c196-4b41-be68-b81eb3619318",
   "metadata": {},
   "outputs": [],
   "source": [
    "#defining function\n",
    "multiply_a_b <- function(a, b){\n",
    "    return (a * b)\n",
    "}\n",
    "\n",
    "result <- multiply_a_b(a = 3, b = 7)\n",
    "\n",
    "print(result)"
   ]
  },
  {
   "cell_type": "code",
   "execution_count": 3,
   "id": "f29d4d0b-0bd6-4b24-b3d6-24e958314760",
   "metadata": {},
   "outputs": [
    {
     "data": {
      "text/html": [
       "<table>\n",
       "<thead><tr><th scope=col>mpg</th><th scope=col>cyl</th><th scope=col>disp</th><th scope=col>hp</th><th scope=col>drat</th><th scope=col>wt</th><th scope=col>qsec</th><th scope=col>vs</th><th scope=col>am</th><th scope=col>gear</th><th scope=col>carb</th><th scope=col>car</th></tr></thead>\n",
       "<tbody>\n",
       "\t<tr><td>21.0             </td><td>6                </td><td>160              </td><td>110              </td><td>3.90             </td><td>2.620            </td><td>16.46            </td><td>0                </td><td>1                </td><td>4                </td><td>4                </td><td>Mazda RX4        </td></tr>\n",
       "\t<tr><td>21.0             </td><td>6                </td><td>160              </td><td>110              </td><td>3.90             </td><td>2.875            </td><td>17.02            </td><td>0                </td><td>1                </td><td>4                </td><td>4                </td><td>Mazda RX4 Wag    </td></tr>\n",
       "\t<tr><td>22.8             </td><td>4                </td><td>108              </td><td> 93              </td><td>3.85             </td><td>2.320            </td><td>18.61            </td><td>1                </td><td>1                </td><td>4                </td><td>1                </td><td>Datsun 710       </td></tr>\n",
       "\t<tr><td>21.4             </td><td>6                </td><td>258              </td><td>110              </td><td>3.08             </td><td>3.215            </td><td>19.44            </td><td>1                </td><td>0                </td><td>3                </td><td>1                </td><td>Hornet 4 Drive   </td></tr>\n",
       "\t<tr><td>18.7             </td><td>8                </td><td>360              </td><td>175              </td><td>3.15             </td><td>3.440            </td><td>17.02            </td><td>0                </td><td>0                </td><td>3                </td><td>2                </td><td>Hornet Sportabout</td></tr>\n",
       "\t<tr><td>18.1             </td><td>6                </td><td>225              </td><td>105              </td><td>2.76             </td><td>3.460            </td><td>20.22            </td><td>1                </td><td>0                </td><td>3                </td><td>1                </td><td>Valiant          </td></tr>\n",
       "</tbody>\n",
       "</table>\n"
      ],
      "text/latex": [
       "\\begin{tabular}{r|llllllllllll}\n",
       " mpg & cyl & disp & hp & drat & wt & qsec & vs & am & gear & carb & car\\\\\n",
       "\\hline\n",
       "\t 21.0              & 6                 & 160               & 110               & 3.90              & 2.620             & 16.46             & 0                 & 1                 & 4                 & 4                 & Mazda RX4        \\\\\n",
       "\t 21.0              & 6                 & 160               & 110               & 3.90              & 2.875             & 17.02             & 0                 & 1                 & 4                 & 4                 & Mazda RX4 Wag    \\\\\n",
       "\t 22.8              & 4                 & 108               &  93               & 3.85              & 2.320             & 18.61             & 1                 & 1                 & 4                 & 1                 & Datsun 710       \\\\\n",
       "\t 21.4              & 6                 & 258               & 110               & 3.08              & 3.215             & 19.44             & 1                 & 0                 & 3                 & 1                 & Hornet 4 Drive   \\\\\n",
       "\t 18.7              & 8                 & 360               & 175               & 3.15              & 3.440             & 17.02             & 0                 & 0                 & 3                 & 2                 & Hornet Sportabout\\\\\n",
       "\t 18.1              & 6                 & 225               & 105               & 2.76              & 3.460             & 20.22             & 1                 & 0                 & 3                 & 1                 & Valiant          \\\\\n",
       "\\end{tabular}\n"
      ],
      "text/markdown": [
       "\n",
       "| mpg | cyl | disp | hp | drat | wt | qsec | vs | am | gear | carb | car |\n",
       "|---|---|---|---|---|---|---|---|---|---|---|---|\n",
       "| 21.0              | 6                 | 160               | 110               | 3.90              | 2.620             | 16.46             | 0                 | 1                 | 4                 | 4                 | Mazda RX4         |\n",
       "| 21.0              | 6                 | 160               | 110               | 3.90              | 2.875             | 17.02             | 0                 | 1                 | 4                 | 4                 | Mazda RX4 Wag     |\n",
       "| 22.8              | 4                 | 108               |  93               | 3.85              | 2.320             | 18.61             | 1                 | 1                 | 4                 | 1                 | Datsun 710        |\n",
       "| 21.4              | 6                 | 258               | 110               | 3.08              | 3.215             | 19.44             | 1                 | 0                 | 3                 | 1                 | Hornet 4 Drive    |\n",
       "| 18.7              | 8                 | 360               | 175               | 3.15              | 3.440             | 17.02             | 0                 | 0                 | 3                 | 2                 | Hornet Sportabout |\n",
       "| 18.1              | 6                 | 225               | 105               | 2.76              | 3.460             | 20.22             | 1                 | 0                 | 3                 | 1                 | Valiant           |\n",
       "\n"
      ],
      "text/plain": [
       "  mpg  cyl disp hp  drat wt    qsec  vs am gear carb car              \n",
       "1 21.0 6   160  110 3.90 2.620 16.46 0  1  4    4    Mazda RX4        \n",
       "2 21.0 6   160  110 3.90 2.875 17.02 0  1  4    4    Mazda RX4 Wag    \n",
       "3 22.8 4   108   93 3.85 2.320 18.61 1  1  4    1    Datsun 710       \n",
       "4 21.4 6   258  110 3.08 3.215 19.44 1  0  3    1    Hornet 4 Drive   \n",
       "5 18.7 8   360  175 3.15 3.440 17.02 0  0  3    2    Hornet Sportabout\n",
       "6 18.1 6   225  105 2.76 3.460 20.22 1  0  3    1    Valiant          "
      ]
     },
     "metadata": {},
     "output_type": "display_data"
    }
   ],
   "source": [
    "# load in the data and store it in the variable cars\n",
    "cars <- read.csv(\"http://s3.amazonaws.com/assets.datacamp.com/course/uva/mtcars.csv\")\n",
    "\n",
    "# print the first 6 rows of the dataset using the head() function\n",
    "head(cars, 6)"
   ]
  },
  {
   "cell_type": "code",
   "execution_count": 4,
   "id": "b268ae34-8fdc-4446-ab32-3511f1c49709",
   "metadata": {},
   "outputs": [
    {
     "data": {
      "text/html": [
       "'C:/Users/F4721716/OneDrive - Banco do Brasil S.A/Documentos/GitHub/basic-statistics-amsterdam'"
      ],
      "text/latex": [
       "'C:/Users/F4721716/OneDrive - Banco do Brasil S.A/Documentos/GitHub/basic-statistics-amsterdam'"
      ],
      "text/markdown": [
       "'C:/Users/F4721716/OneDrive - Banco do Brasil S.A/Documentos/GitHub/basic-statistics-amsterdam'"
      ],
      "text/plain": [
       "[1] \"C:/Users/F4721716/OneDrive - Banco do Brasil S.A/Documentos/GitHub/basic-statistics-amsterdam\""
      ]
     },
     "metadata": {},
     "output_type": "display_data"
    }
   ],
   "source": [
    "#getting the current working directory\n",
    "getwd()"
   ]
  },
  {
   "cell_type": "code",
   "execution_count": 5,
   "id": "319f706d-4bb5-49b8-8337-9b02bcb5ae7e",
   "metadata": {},
   "outputs": [
    {
     "data": {
      "text/html": [
       "<ol class=list-inline>\n",
       "\t<li><span style=white-space:pre-wrap>'week-01-R lab - Getting started (part 1) aka  The Basics of R.ipynb'</span></li>\n",
       "\t<li>'week-01-R lab - Getting started (part 2) aka Introduction to R continued.ipynb'</li>\n",
       "</ol>\n"
      ],
      "text/latex": [
       "\\begin{enumerate*}\n",
       "\\item 'week-01-R lab - Getting started (part 1) aka  The Basics of R.ipynb'\n",
       "\\item 'week-01-R lab - Getting started (part 2) aka Introduction to R continued.ipynb'\n",
       "\\end{enumerate*}\n"
      ],
      "text/markdown": [
       "1. <span style=white-space:pre-wrap>'week-01-R lab - Getting started (part 1) aka  The Basics of R.ipynb'</span>\n",
       "2. 'week-01-R lab - Getting started (part 2) aka Introduction to R continued.ipynb'\n",
       "\n",
       "\n"
      ],
      "text/plain": [
       "[1] \"week-01-R lab - Getting started (part 1) aka  The Basics of R.ipynb\"           \n",
       "[2] \"week-01-R lab - Getting started (part 2) aka Introduction to R continued.ipynb\""
      ]
     },
     "metadata": {},
     "output_type": "display_data"
    }
   ],
   "source": [
    "#list local files\n",
    "list.files()"
   ]
  },
  {
   "cell_type": "code",
   "execution_count": 6,
   "id": "1a4415ad-b526-4058-b887-9e18b0293a17",
   "metadata": {},
   "outputs": [
    {
     "name": "stderr",
     "output_type": "stream",
     "text": [
      "Warning message:\n",
      "\"unable to access index for repository https://cran.r-project.org/src/contrib:\n",
      "  não foi possível abrir a URL 'https://cran.r-project.org/src/contrib/PACKAGES'\"Warning message:\n",
      "\"package 'ggplot2' is not available (for R version 3.6.1)\"Warning message:\n",
      "\"unable to access index for repository https://cran.r-project.org/bin/windows/contrib/3.6:\n",
      "  não foi possível abrir a URL 'https://cran.r-project.org/bin/windows/contrib/3.6/PACKAGES'\""
     ]
    }
   ],
   "source": [
    "# installing package\n",
    "install.packages(\"ggplot2\")"
   ]
  },
  {
   "cell_type": "code",
   "execution_count": 7,
   "id": "8b73db72-b19d-4e16-8632-b0c5602ba03c",
   "metadata": {},
   "outputs": [
    {
     "name": "stderr",
     "output_type": "stream",
     "text": [
      "Loading required package: ggplot2\n",
      "Warning message in library(package, lib.loc = lib.loc, character.only = TRUE, logical.return = TRUE, :\n",
      "\"there is no package called 'ggplot2'\""
     ]
    }
   ],
   "source": [
    "require(ggplot2)"
   ]
  }
 ],
 "metadata": {
  "kernelspec": {
   "display_name": "R",
   "language": "R",
   "name": "ir"
  },
  "language_info": {
   "codemirror_mode": "r",
   "file_extension": ".r",
   "mimetype": "text/x-r-source",
   "name": "R",
   "pygments_lexer": "r",
   "version": "3.6.1"
  }
 },
 "nbformat": 4,
 "nbformat_minor": 5
}
