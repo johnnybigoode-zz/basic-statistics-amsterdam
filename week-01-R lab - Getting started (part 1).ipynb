{
 "cells": [
  {
   "cell_type": "code",
   "execution_count": 1,
   "id": "3c7a8040-3426-46ec-bcc5-2d302dfae649",
   "metadata": {},
   "outputs": [
    {
     "data": {
      "text/html": [
       "7"
      ],
      "text/latex": [
       "7"
      ],
      "text/markdown": [
       "7"
      ],
      "text/plain": [
       "[1] 7"
      ]
     },
     "metadata": {},
     "output_type": "display_data"
    },
    {
     "data": {
      "text/html": [
       "18"
      ],
      "text/latex": [
       "18"
      ],
      "text/markdown": [
       "18"
      ],
      "text/plain": [
       "[1] 18"
      ]
     },
     "metadata": {},
     "output_type": "display_data"
    }
   ],
   "source": [
    "#Examples of R things\n",
    "3+4\n",
    "6+12\n"
   ]
  },
  {
   "cell_type": "code",
   "execution_count": 2,
   "id": "c48c60bb-20d3-432b-8c57-96053eef1ce8",
   "metadata": {},
   "outputs": [
    {
     "data": {
      "text/html": [
       "10"
      ],
      "text/latex": [
       "10"
      ],
      "text/markdown": [
       "10"
      ],
      "text/plain": [
       "[1] 10"
      ]
     },
     "metadata": {},
     "output_type": "display_data"
    },
    {
     "data": {
      "text/html": [
       "0"
      ],
      "text/latex": [
       "0"
      ],
      "text/markdown": [
       "0"
      ],
      "text/plain": [
       "[1] 0"
      ]
     },
     "metadata": {},
     "output_type": "display_data"
    },
    {
     "data": {
      "text/html": [
       "25"
      ],
      "text/latex": [
       "25"
      ],
      "text/markdown": [
       "25"
      ],
      "text/plain": [
       "[1] 25"
      ]
     },
     "metadata": {},
     "output_type": "display_data"
    },
    {
     "data": {
      "text/html": [
       "1"
      ],
      "text/latex": [
       "1"
      ],
      "text/markdown": [
       "1"
      ],
      "text/plain": [
       "[1] 1"
      ]
     },
     "metadata": {},
     "output_type": "display_data"
    },
    {
     "data": {
      "text/html": [
       "3125"
      ],
      "text/latex": [
       "3125"
      ],
      "text/markdown": [
       "3125"
      ],
      "text/plain": [
       "[1] 3125"
      ]
     },
     "metadata": {},
     "output_type": "display_data"
    },
    {
     "data": {
      "text/html": [
       "4"
      ],
      "text/latex": [
       "4"
      ],
      "text/markdown": [
       "4"
      ],
      "text/plain": [
       "[1] 4"
      ]
     },
     "metadata": {},
     "output_type": "display_data"
    }
   ],
   "source": [
    "# Arithmetics\n",
    "# Addition\n",
    "5 + 5\n",
    "\n",
    "# Subtraction\n",
    "5 - 5\n",
    "\n",
    "# Multiplication\n",
    "5 * 5\n",
    "\n",
    "# Division\n",
    "5 / 5\n",
    "\n",
    "# Exponential\n",
    "5 ^ 5\n",
    "\n",
    "# Modulo \n",
    "28 %% 6 "
   ]
  },
  {
   "cell_type": "code",
   "execution_count": 3,
   "id": "b52126f6-1700-4af4-b00a-00bb2cdf3025",
   "metadata": {},
   "outputs": [
    {
     "name": "stdout",
     "output_type": "stream",
     "text": [
      "[1] 42\n"
     ]
    }
   ],
   "source": [
    "# Variable assignment and printing\n",
    "\n",
    "# Assign the value 42 to x\n",
    "x <- 42\n",
    "\n",
    "# Print out the value of the variable x\n",
    "print(x)"
   ]
  },
  {
   "cell_type": "code",
   "execution_count": 4,
   "id": "c7e78f5f-ab95-4ef6-8117-b79880894e25",
   "metadata": {},
   "outputs": [],
   "source": [
    "my_numeric <- 42.5\n",
    "my_integer <- 7\n",
    "my_character <- \"some text\"\n",
    "my_logical <- TRUE"
   ]
  },
  {
   "cell_type": "code",
   "execution_count": 5,
   "id": "fbf5c3f8-927f-46dd-a2df-4aea9f6703cb",
   "metadata": {},
   "outputs": [
    {
     "data": {
      "text/html": [
       "'numeric'"
      ],
      "text/latex": [
       "'numeric'"
      ],
      "text/markdown": [
       "'numeric'"
      ],
      "text/plain": [
       "[1] \"numeric\""
      ]
     },
     "metadata": {},
     "output_type": "display_data"
    },
    {
     "data": {
      "text/html": [
       "'numeric'"
      ],
      "text/latex": [
       "'numeric'"
      ],
      "text/markdown": [
       "'numeric'"
      ],
      "text/plain": [
       "[1] \"numeric\""
      ]
     },
     "metadata": {},
     "output_type": "display_data"
    },
    {
     "data": {
      "text/html": [
       "'character'"
      ],
      "text/latex": [
       "'character'"
      ],
      "text/markdown": [
       "'character'"
      ],
      "text/plain": [
       "[1] \"character\""
      ]
     },
     "metadata": {},
     "output_type": "display_data"
    },
    {
     "data": {
      "text/html": [
       "'logical'"
      ],
      "text/latex": [
       "'logical'"
      ],
      "text/markdown": [
       "'logical'"
      ],
      "text/plain": [
       "[1] \"logical\""
      ]
     },
     "metadata": {},
     "output_type": "display_data"
    }
   ],
   "source": [
    "class(my_numeric)\n",
    "class(my_integer)\n",
    "class(my_character)\n",
    "class(my_logical)"
   ]
  },
  {
   "cell_type": "code",
   "execution_count": 6,
   "id": "13769a7b-62d8-4013-a800-026639af3c22",
   "metadata": {},
   "outputs": [
    {
     "data": {
      "text/html": [
       "<ol class=list-inline>\n",
       "\t<li>'my_character'</li>\n",
       "\t<li>'my_integer'</li>\n",
       "\t<li>'my_logical'</li>\n",
       "\t<li>'my_numeric'</li>\n",
       "\t<li>'x'</li>\n",
       "</ol>\n"
      ],
      "text/latex": [
       "\\begin{enumerate*}\n",
       "\\item 'my\\_character'\n",
       "\\item 'my\\_integer'\n",
       "\\item 'my\\_logical'\n",
       "\\item 'my\\_numeric'\n",
       "\\item 'x'\n",
       "\\end{enumerate*}\n"
      ],
      "text/markdown": [
       "1. 'my_character'\n",
       "2. 'my_integer'\n",
       "3. 'my_logical'\n",
       "4. 'my_numeric'\n",
       "5. 'x'\n",
       "\n",
       "\n"
      ],
      "text/plain": [
       "[1] \"my_character\" \"my_integer\"   \"my_logical\"   \"my_numeric\"   \"x\"           "
      ]
     },
     "metadata": {},
     "output_type": "display_data"
    }
   ],
   "source": [
    "# show defined variables\n",
    "ls()"
   ]
  },
  {
   "cell_type": "code",
   "execution_count": 7,
   "id": "3dd179ed-2aa1-4757-9f1b-185ac997f9bd",
   "metadata": {},
   "outputs": [
    {
     "data": {
      "text/html": [
       "TRUE"
      ],
      "text/latex": [
       "TRUE"
      ],
      "text/markdown": [
       "TRUE"
      ],
      "text/plain": [
       "[1] TRUE"
      ]
     },
     "metadata": {},
     "output_type": "display_data"
    },
    {
     "data": {
      "text/html": [
       "'logical'"
      ],
      "text/latex": [
       "'logical'"
      ],
      "text/markdown": [
       "'logical'"
      ],
      "text/plain": [
       "[1] \"logical\""
      ]
     },
     "metadata": {},
     "output_type": "display_data"
    },
    {
     "name": "stderr",
     "output_type": "stream",
     "text": [
      "Warning message in eval(expr, envir, enclos):\n",
      "\"NAs introduzidos por coerção\""
     ]
    }
   ],
   "source": [
    "# Casting and type checking\n",
    "# Create variables var1, var2 and var3\n",
    "var1 <- TRUE\n",
    "var2 <- 0.3\n",
    "var3 <- \"i\"\n",
    "\n",
    "# var1 is logical; convert it to character: var1_char\n",
    "var1_char = as.character(var1)\n",
    "\n",
    "# See whether var1_char is a character\n",
    "is.character(var1_char)\n",
    "\n",
    "# var2 is numeric; convert it to logical: var2_log\n",
    "var2_log = as.logical(var2)\n",
    "\n",
    "# Inspect the class of var2_log\n",
    "class(var2_log)\n",
    "\n",
    "# var3 is character; convert it to numeric: var3_num\n",
    "# fails\n",
    "var3_num = as.numeric(var3)"
   ]
  },
  {
   "cell_type": "code",
   "execution_count": 8,
   "id": "00e94d1e-e8df-4aeb-85c7-8cdb9ffc8779",
   "metadata": {},
   "outputs": [],
   "source": [
    "# these are vectors!\n",
    "numeric_vector <- c(1, 10, 49)\n",
    "character_vector <- c(\"a\", \"b\", \"c\")\n",
    "boolean_vector <- c(TRUE, FALSE, TRUE)"
   ]
  }
 ],
 "metadata": {
  "kernelspec": {
   "display_name": "R",
   "language": "R",
   "name": "ir"
  },
  "language_info": {
   "codemirror_mode": "r",
   "file_extension": ".r",
   "mimetype": "text/x-r-source",
   "name": "R",
   "pygments_lexer": "r",
   "version": "3.6.1"
  }
 },
 "nbformat": 4,
 "nbformat_minor": 5
}
